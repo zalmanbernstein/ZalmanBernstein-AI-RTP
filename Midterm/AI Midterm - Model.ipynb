{
 "cells": [
  {
   "cell_type": "code",
   "execution_count": 13,
   "id": "b9a31cd3-ba98-4544-a274-d4512c65cea6",
   "metadata": {},
   "outputs": [],
   "source": [
    "import pandas as pd\n",
    "from sklearn.model_selection import train_test_split\n",
    "from sklearn.linear_model import LogisticRegression\n",
    "from sklearn.preprocessing import StandardScaler\n",
    "from sklearn.tree import DecisionTreeClassifier\n",
    "from sklearn.metrics import classification_report, confusion_matrix\n",
    "import statsmodels.api as sm\n",
    "from patsy import dmatrices\n",
    "from tabulate import tabulate\n",
    "from sklearn.ensemble import RandomForestClassifier"
   ]
  },
  {
   "cell_type": "code",
   "execution_count": 2,
   "id": "f102f6ca-953c-45e7-8cc7-c4024b0c0f08",
   "metadata": {},
   "outputs": [],
   "source": [
    "df = pd.read_csv('OUData_Cleaned_and_Processed.csv')"
   ]
  },
  {
   "cell_type": "code",
   "execution_count": 3,
   "id": "92aafac0-6eed-410e-9c8c-71411e78f749",
   "metadata": {},
   "outputs": [],
   "source": [
    "# Target variable: Flipped\n",
    "# Input Variables: {Age (numerical), Gender (categorical),\n",
    "# PrimaryInsuranceCategory (categorical), DRG01 (categorical), BloodPressureDiff (numerical),\n",
    "# BloodPressureLower (numerical), BloodPressureUpper (numerical), Pulse (numerical), PulseOximetry\n",
    "# (numerical), Respirations (numerical), and Temperature (numerical)}"
   ]
  },
  {
   "cell_type": "code",
   "execution_count": 4,
   "id": "6370f18d-442b-431d-a3f2-0f14633d6e7a",
   "metadata": {},
   "outputs": [],
   "source": [
    "# Handling categorical variables with patsy's dmatrices\n",
    "formula = 'Flipped ~ Age + Gender + PrimaryInsuranceCategory + DRG01 + BloodPressureDiff + BloodPressureLower + BloodPressureUpper + Pulse + PulseOximetry + Respirations + Temperature'\n",
    "y, X = dmatrices(formula, df, return_type='dataframe')"
   ]
  },
  {
   "cell_type": "code",
   "execution_count": 5,
   "id": "be895d7f-7af1-4b8c-8580-0e7526adf89f",
   "metadata": {},
   "outputs": [
    {
     "name": "stdout",
     "output_type": "stream",
     "text": [
      "Confusion Matrix:\n",
      "+-----+----+\n",
      "| 123 | 50 |\n",
      "+-----+----+\n",
      "|  84 | 73 |\n",
      "+-----+----+\n",
      "\n",
      "Classification Report:\n",
      "              precision    recall  f1-score   support\n",
      "\n",
      "         0.0       0.59      0.71      0.65       173\n",
      "         1.0       0.59      0.46      0.52       157\n",
      "\n",
      "    accuracy                           0.59       330\n",
      "   macro avg       0.59      0.59      0.58       330\n",
      "weighted avg       0.59      0.59      0.59       330\n",
      "\n"
     ]
    }
   ],
   "source": [
    "# Split the data into training and testing sets\n",
    "X_train, X_test, y_train, y_test = train_test_split(X, y, test_size=0.3, random_state=42)\n",
    "y_train = y_train.drop(columns=['Flipped[False]'])\n",
    "y_test = y_test.drop(columns=['Flipped[False]'])\n",
    "\n",
    "# Standardize the numerical variables to have zero mean and unit variance\n",
    "scaler = StandardScaler()\n",
    "\n",
    "# Fit on training data and transform both training and test data\n",
    "# Ensuring indices are preserved when converting back to DataFrame\n",
    "X_train_scaled = scaler.fit_transform(X_train)\n",
    "X_train = pd.DataFrame(X_train_scaled, columns=X_train.columns, index=X_train.index)\n",
    "\n",
    "X_test_scaled = scaler.transform(X_test)\n",
    "X_test = pd.DataFrame(X_test_scaled, columns=X_test.columns, index=X_test.index)\n",
    "\n",
    "# Initialize and train the logistic regression model\n",
    "model = LogisticRegression(max_iter=1000)\n",
    "model.fit(X_train, y_train.values.ravel())  # y_train.ravel() to convert y_train to a 1D array if needed\n",
    "\n",
    "# Predictions\n",
    "y_pred = model.predict(X_test)\n",
    "\n",
    "# Evaluate the model\n",
    "conf_matrix = confusion_matrix(y_test, y_pred)\n",
    "\n",
    "# Using tabulate to format the output of the confusion matrix\n",
    "print(\"Confusion Matrix:\")\n",
    "print(tabulate(conf_matrix, tablefmt=\"grid\"))\n",
    "\n",
    "# Using tabulate to format the classification report\n",
    "print(\"\\nClassification Report:\")\n",
    "print(classification_report(y_test, y_pred))"
   ]
  },
  {
   "cell_type": "code",
   "execution_count": 15,
   "id": "65741336-4111-4a6a-b4d9-16eccdf20337",
   "metadata": {},
   "outputs": [
    {
     "name": "stdout",
     "output_type": "stream",
     "text": [
      "Confusion Matrix:\n",
      "+------------+----------------+-----------------+\n",
      "|            |   Predicted No |   Predicted Yes |\n",
      "+============+================+=================+\n",
      "| Actual No  |            117 |              56 |\n",
      "+------------+----------------+-----------------+\n",
      "| Actual Yes |             86 |              71 |\n",
      "+------------+----------------+-----------------+\n",
      "\n",
      "Classification Report:\n",
      "+--------------+-------------+----------+------------+------------+\n",
      "|              |   precision |   recall |   f1-score |    support |\n",
      "+==============+=============+==========+============+============+\n",
      "| 0.0          |    0.576355 | 0.676301 |   0.62234  | 173        |\n",
      "+--------------+-------------+----------+------------+------------+\n",
      "| 1.0          |    0.559055 | 0.452229 |   0.5      | 157        |\n",
      "+--------------+-------------+----------+------------+------------+\n",
      "| accuracy     |    0.569697 | 0.569697 |   0.569697 |   0.569697 |\n",
      "+--------------+-------------+----------+------------+------------+\n",
      "| macro avg    |    0.567705 | 0.564265 |   0.56117  | 330        |\n",
      "+--------------+-------------+----------+------------+------------+\n",
      "| weighted avg |    0.568124 | 0.569697 |   0.564136 | 330        |\n",
      "+--------------+-------------+----------+------------+------------+\n"
     ]
    },
    {
     "name": "stderr",
     "output_type": "stream",
     "text": [
      "C:\\Users\\Zalman Bernstein\\AppData\\Local\\Temp\\ipykernel_64540\\2940377296.py:13: DataConversionWarning: A column-vector y was passed when a 1d array was expected. Please change the shape of y to (n_samples,), for example using ravel().\n",
      "  model.fit(X_train, y_train)\n"
     ]
    }
   ],
   "source": [
    "# Data preparation (assuming X, y are ready)\n",
    "X_train, X_test, y_train, y_test = train_test_split(X, y, test_size=0.3, random_state=42)\n",
    "y_train = y_train.drop(columns=['Flipped[False]'])\n",
    "y_test = y_test.drop(columns=['Flipped[False]'])\n",
    "\n",
    "# Initialize the Decision Tree classifier\n",
    "#model = DecisionTreeClassifier(random_state=12345)\n",
    "\n",
    "#Random forest\n",
    "#model = RandomForestClassifier(random_state=12345, n_estimators=100)\n",
    "\n",
    "# Train the model\n",
    "model.fit(X_train, y_train)\n",
    "\n",
    "# Predictions\n",
    "y_pred = model.predict(X_test)\n",
    "\n",
    "# Output formatted Confusion Matrix\n",
    "conf_matrix = confusion_matrix(y_test, y_pred)\n",
    "print(\"Confusion Matrix:\")\n",
    "print(tabulate(conf_matrix, headers=['Predicted No', 'Predicted Yes'], tablefmt='grid', showindex=['Actual No', 'Actual Yes']))\n",
    "\n",
    "# Output formatted Classification Report\n",
    "class_report = classification_report(y_test, y_pred, output_dict=True)\n",
    "print(\"\\nClassification Report:\")\n",
    "print(tabulate(pd.DataFrame(class_report).transpose(), headers=\"keys\", tablefmt=\"grid\"))\n",
    "\n"
   ]
  },
  {
   "cell_type": "code",
   "execution_count": 20,
   "id": "251d0320-7949-4006-9506-c830ed8bc112",
   "metadata": {},
   "outputs": [
    {
     "name": "stdout",
     "output_type": "stream",
     "text": [
      "Best ccp_alpha: {'ccp_alpha': 0.008986517635530544}\n",
      "Accuracy on test set: 0.60\n",
      "Confusion Matrix:\n",
      "+------------+----------------+-----------------+\n",
      "|            |   Predicted No |   Predicted Yes |\n",
      "+============+================+=================+\n",
      "| Actual No  |            136 |              37 |\n",
      "+------------+----------------+-----------------+\n",
      "| Actual Yes |             95 |              62 |\n",
      "+------------+----------------+-----------------+\n",
      "\n",
      "Classification Report:\n",
      "+--------------+-------------+----------+------------+-----------+\n",
      "|              |   precision |   recall |   f1-score |   support |\n",
      "+==============+=============+==========+============+===========+\n",
      "| 0.0          |    0.588745 | 0.786127 |   0.673267 |     173   |\n",
      "+--------------+-------------+----------+------------+-----------+\n",
      "| 1.0          |    0.626263 | 0.394904 |   0.484375 |     157   |\n",
      "+--------------+-------------+----------+------------+-----------+\n",
      "| accuracy     |    0.6      | 0.6      |   0.6      |       0.6 |\n",
      "+--------------+-------------+----------+------------+-----------+\n",
      "| macro avg    |    0.607504 | 0.590516 |   0.578821 |     330   |\n",
      "+--------------+-------------+----------+------------+-----------+\n",
      "| weighted avg |    0.606594 | 0.6      |   0.5834   |     330   |\n",
      "+--------------+-------------+----------+------------+-----------+\n"
     ]
    }
   ],
   "source": [
    "#attempting to improve the model\n",
    "\n",
    "from sklearn.model_selection import train_test_split, GridSearchCV\n",
    "from sklearn.metrics import accuracy_score\n",
    "\n",
    "# Train a decision tree without pruning to find the ccp_alpha values\n",
    "tree = DecisionTreeClassifier(random_state=42)\n",
    "path = tree.cost_complexity_pruning_path(X_train, y_train)\n",
    "ccp_alphas, impurities = path.ccp_alphas, path.impurities\n",
    "\n",
    "# Grid search to find the best ccp_alpha\n",
    "clf = DecisionTreeClassifier(random_state=42)\n",
    "grid_search = GridSearchCV(clf, param_grid={'ccp_alpha': ccp_alphas}, cv=5)\n",
    "grid_search.fit(X_train, y_train)\n",
    "print(\"Best ccp_alpha:\", grid_search.best_params_)\n",
    "\n",
    "# Prune the tree using the optimal ccp_alpha\n",
    "tree_pruned = DecisionTreeClassifier(random_state=42, ccp_alpha=grid_search.best_params_['ccp_alpha'])\n",
    "tree_pruned.fit(X_train, y_train)\n",
    "y_pred = tree_pruned.predict(X_test)\n",
    "\n",
    "# Evaluate the pruned tree\n",
    "print(f\"Accuracy on test set: {accuracy_score(y_test, y_pred):.2f}\")\n",
    "\n",
    "# Output formatted Confusion Matrix\n",
    "conf_matrix = confusion_matrix(y_test, y_pred)\n",
    "print(\"Confusion Matrix:\")\n",
    "print(tabulate(conf_matrix, headers=['Predicted No', 'Predicted Yes'], tablefmt='grid', showindex=['Actual No', 'Actual Yes']))\n",
    "\n",
    "# Output formatted Classification Report\n",
    "class_report = classification_report(y_test, y_pred, output_dict=True)\n",
    "print(\"\\nClassification Report:\")\n",
    "print(tabulate(pd.DataFrame(class_report).transpose(), headers=\"keys\", tablefmt=\"grid\"))"
   ]
  },
  {
   "cell_type": "code",
   "execution_count": null,
   "id": "2f84bc14-5300-40df-9ff2-31f39ecefec1",
   "metadata": {},
   "outputs": [],
   "source": []
  }
 ],
 "metadata": {
  "kernelspec": {
   "display_name": "Python 3 (ipykernel)",
   "language": "python",
   "name": "python3"
  },
  "language_info": {
   "codemirror_mode": {
    "name": "ipython",
    "version": 3
   },
   "file_extension": ".py",
   "mimetype": "text/x-python",
   "name": "python",
   "nbconvert_exporter": "python",
   "pygments_lexer": "ipython3",
   "version": "3.11.7"
  }
 },
 "nbformat": 4,
 "nbformat_minor": 5
}
